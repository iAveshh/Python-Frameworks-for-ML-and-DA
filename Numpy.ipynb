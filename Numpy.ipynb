{
 "cells": [
  {
   "cell_type": "markdown",
   "metadata": {},
   "source": [
    "A small demo for most of numpy functions. that will help you to understand the basics behind them. Thank you."
   ]
  },
  {
   "cell_type": "code",
   "execution_count": 1,
   "metadata": {},
   "outputs": [],
   "source": [
    "import numpy as np"
   ]
  },
  {
   "cell_type": "code",
   "execution_count": 3,
   "metadata": {},
   "outputs": [],
   "source": [
    "# 1. creating One-D array nd printing values\n",
    "arr = np.array([1,4,3])"
   ]
  },
  {
   "cell_type": "code",
   "execution_count": 4,
   "metadata": {},
   "outputs": [
    {
     "name": "stdout",
     "output_type": "stream",
     "text": [
      "[1 4 3]\n"
     ]
    }
   ],
   "source": [
    "print(arr)"
   ]
  },
  {
   "cell_type": "code",
   "execution_count": 5,
   "metadata": {},
   "outputs": [
    {
     "name": "stdout",
     "output_type": "stream",
     "text": [
      "<class 'numpy.ndarray'>\n"
     ]
    }
   ],
   "source": [
    "# 2. Printing the type of array\n",
    "print(type(arr))"
   ]
  },
  {
   "cell_type": "code",
   "execution_count": 10,
   "metadata": {},
   "outputs": [
    {
     "name": "stdout",
     "output_type": "stream",
     "text": [
      "[[1 2 3]\n",
      " [4 5 6]]\n"
     ]
    }
   ],
   "source": [
    "# 3. Creating 2-D array and printing\n",
    "arr2 = np.array([(1,2,3),(4,5,6)])\n",
    "print(arr2)"
   ]
  },
  {
   "cell_type": "code",
   "execution_count": 11,
   "metadata": {},
   "outputs": [
    {
     "name": "stdout",
     "output_type": "stream",
     "text": [
      "<class 'numpy.ndarray'>\n"
     ]
    }
   ],
   "source": [
    "# 4. printing the type of above np.array\n",
    "print(type(arr2))"
   ]
  },
  {
   "cell_type": "code",
   "execution_count": 12,
   "metadata": {},
   "outputs": [
    {
     "name": "stdout",
     "output_type": "stream",
     "text": [
      "1\n"
     ]
    }
   ],
   "source": [
    "# 5. creating an array and finding its type.\n",
    "arr3 = np.array([1,4,3])\n",
    "print(arr3.ndim)"
   ]
  },
  {
   "cell_type": "code",
   "execution_count": 14,
   "metadata": {},
   "outputs": [
    {
     "name": "stdout",
     "output_type": "stream",
     "text": [
      "4\n"
     ]
    }
   ],
   "source": [
    "# 6. finding the byte size oof the above array\n",
    "print(arr3.itemsize)"
   ]
  },
  {
   "cell_type": "code",
   "execution_count": 17,
   "metadata": {},
   "outputs": [
    {
     "name": "stdout",
     "output_type": "stream",
     "text": [
      "int32\n"
     ]
    }
   ],
   "source": [
    "# 7. finding datatype  of each element in the above array\n",
    "print(arr3.dtype)"
   ]
  },
  {
   "cell_type": "code",
   "execution_count": 18,
   "metadata": {},
   "outputs": [
    {
     "name": "stdout",
     "output_type": "stream",
     "text": [
      "3\n"
     ]
    }
   ],
   "source": [
    "# 8. finding the size of the above numpy array.\n",
    "print(arr3.size)"
   ]
  },
  {
   "cell_type": "code",
   "execution_count": 24,
   "metadata": {},
   "outputs": [
    {
     "name": "stdout",
     "output_type": "stream",
     "text": [
      "[[0. 0. 0.]\n",
      " [0. 0. 0.]\n",
      " [0. 0. 0.]]\n"
     ]
    }
   ],
   "source": [
    "# 9. Creating an array with np.zeros function\n",
    "arr4 = np.zeros([3,3])\n",
    "print(arr4)"
   ]
  },
  {
   "cell_type": "code",
   "execution_count": 25,
   "metadata": {},
   "outputs": [
    {
     "name": "stdout",
     "output_type": "stream",
     "text": [
      "[[1. 1. 1.]\n",
      " [1. 1. 1.]\n",
      " [1. 1. 1.]]\n"
     ]
    }
   ],
   "source": [
    "# 10. Creating an array with np.ones.\n",
    "arr5 = np.ones([3,3])\n",
    "print(arr5)"
   ]
  },
  {
   "cell_type": "code",
   "execution_count": 28,
   "metadata": {},
   "outputs": [
    {
     "name": "stdout",
     "output_type": "stream",
     "text": [
      "(2, 3)\n"
     ]
    }
   ],
   "source": [
    "# 11. Finding the shape for the below numpy array.\n",
    "arr6 = np.array([(1,2,3),(4,5,6)])\n",
    "print(arr6.shape)"
   ]
  },
  {
   "cell_type": "code",
   "execution_count": 33,
   "metadata": {},
   "outputs": [
    {
     "data": {
      "text/plain": [
       "array([[1, 2],\n",
       "       [3, 4],\n",
       "       [5, 6]])"
      ]
     },
     "execution_count": 33,
     "metadata": {},
     "output_type": "execute_result"
    }
   ],
   "source": [
    "# 12. Finding and reshhapng theabove array with [4,2].\n",
    "# NOTE : Reshaping a numpy array has certain rules to follow. \n",
    "arr7 = np.array([(1,2,3),(4,5,6)])\n",
    "np.reshape(arr7,(3,2))"
   ]
  },
  {
   "cell_type": "code",
   "execution_count": 36,
   "metadata": {},
   "outputs": [
    {
     "name": "stdout",
     "output_type": "stream",
     "text": [
      "[[1 2 3]\n",
      " [4 5 6]]\n",
      "[3 6]\n"
     ]
    }
   ],
   "source": [
    "# 13. Finding the slice of an array for a[0:,2]\n",
    "# NOTE : Reshaping a numpy array has certain rules to follow. \n",
    "arr8 = np.array([(1,2,3),(4,5,6)])\n",
    "print(arr8)\n",
    "print(arr8[:,2])"
   ]
  },
  {
   "cell_type": "code",
   "execution_count": 37,
   "metadata": {},
   "outputs": [
    {
     "name": "stdout",
     "output_type": "stream",
     "text": [
      "[1.   1.25 1.5  1.75 2.  ]\n"
     ]
    }
   ],
   "source": [
    "# 14. printing linspace for the values (1,2,5).\n",
    "print(np.linspace(1,2,5))"
   ]
  },
  {
   "cell_type": "code",
   "execution_count": 46,
   "metadata": {},
   "outputs": [
    {
     "name": "stdout",
     "output_type": "stream",
     "text": [
      "[[1 2 3]\n",
      " [3 4 5]]\n",
      " The sum of above Array is :  18\n",
      " The min of above Array is :  1\n",
      " The max of above Array is :  5\n"
     ]
    }
   ],
   "source": [
    "# 15. Finding Sum, max and min of an array for the following vales [(1,2,3),(3,4,5)].\n",
    "arr9 = np.array([(1,2,3),(3,4,5)])\n",
    "print(arr9)\n",
    "print(' The sum of above Array is : ', arr9.sum())\n",
    "print(' The min of above Array is : ', arr9.min())\n",
    "print(' The max of above Array is : ', arr9.max())\n"
   ]
  },
  {
   "cell_type": "code",
   "execution_count": 47,
   "metadata": {},
   "outputs": [
    {
     "name": "stdout",
     "output_type": "stream",
     "text": [
      "[4 6 8]\n"
     ]
    }
   ],
   "source": [
    "# 16. Finding row wise and column wise sum of array.\n",
    "arr10 = np.array([(1,2,3),(3,4,5)])\n",
    "print(sum(arr10))"
   ]
  },
  {
   "cell_type": "code",
   "execution_count": 49,
   "metadata": {},
   "outputs": [
    {
     "name": "stdout",
     "output_type": "stream",
     "text": [
      "[[1 3 9]\n",
      " [2 4 6]\n",
      " [3 5 0]]\n"
     ]
    }
   ],
   "source": [
    "# 17. Finding transpose of an array.\n",
    "arr11 = np.array([(1,2,3),(3,4,5),(9,6,0)])\n",
    "print(arr11.T)"
   ]
  },
  {
   "cell_type": "code",
   "execution_count": 52,
   "metadata": {},
   "outputs": [
    {
     "data": {
      "text/plain": [
       "array([[ 1,  2,  4],\n",
       "       [ 3,  4,  6],\n",
       "       [-1,  0,  5]])"
      ]
     },
     "execution_count": 52,
     "metadata": {},
     "output_type": "execute_result"
    }
   ],
   "source": [
    "# 18. Finding row wise sort and column wise sort.\n",
    "arr12 = np.array([(1,4,2),(3,4,6),(0,-1,5)])\n",
    "np.sort(arr12)"
   ]
  },
  {
   "cell_type": "code",
   "execution_count": 61,
   "metadata": {},
   "outputs": [
    {
     "name": "stdout",
     "output_type": "stream",
     "text": [
      "verirical split :  [array([[ 1,  3,  5,  7,  9, 11],\n",
      "       [ 2,  4,  5,  8, 10, 12]])]\n",
      "Horizontal split :  [array([[ 1,  3,  5,  7,  9, 11],\n",
      "       [ 2,  4,  5,  8, 10, 12]])]\n"
     ]
    }
   ],
   "source": [
    "# 19. Finding the Horizontal split and Vertical split. \n",
    "arr13 = np.array([(1,3,5,7,9,11),(2,4,5,8,10,12)])\n",
    "print('verirical split : ',np.vsplit(arr13,1)) # Here, (arr13,1) --> 1 represents the parts in which you wanna distribute the array.(division of the main array in '1' verical parts.)\n",
    "print('Horizontal split : ',np.hsplit(arr13,1))"
   ]
  },
  {
   "cell_type": "code",
   "execution_count": 66,
   "metadata": {},
   "outputs": [
    {
     "name": "stdout",
     "output_type": "stream",
     "text": [
      "Hstack:  [[1 2 3 1 2 3]\n",
      " [3 4 5 3 4 5]] \n",
      "\n",
      "Vstack:  [[1 2 3]\n",
      " [3 4 5]\n",
      " [1 2 3]\n",
      " [3 4 5]]\n"
     ]
    }
   ],
   "source": [
    "# 20. Finding the Vstack and Hsrack for the following Values:\n",
    "arr14 = np.array([(1,2,3),(3,4,5)])\n",
    "arr15 = np.array([(1,2,3),(3,4,5)])\n",
    "print('Hstack: ',np.hstack((arr14,arr15)), '\\n')\n",
    "print('Vstack: ',np.vstack((arr14,arr15)))"
   ]
  },
  {
   "cell_type": "code",
   "execution_count": null,
   "metadata": {},
   "outputs": [],
   "source": []
  }
 ],
 "metadata": {
  "kernelspec": {
   "display_name": "Python 3",
   "language": "python",
   "name": "python3"
  },
  "language_info": {
   "codemirror_mode": {
    "name": "ipython",
    "version": 3
   },
   "file_extension": ".py",
   "mimetype": "text/x-python",
   "name": "python",
   "nbconvert_exporter": "python",
   "pygments_lexer": "ipython3",
   "version": "3.7.6"
  }
 },
 "nbformat": 4,
 "nbformat_minor": 4
}
